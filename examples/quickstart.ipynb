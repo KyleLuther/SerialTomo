{
 "cells": [
  {
   "cell_type": "markdown",
   "id": "28661ed5-4d2c-4ddf-9faf-fa2540002b51",
   "metadata": {},
   "source": [
    "# SerialTomo Quickstart\n",
    "**SerialTomo** is a python library designed to aid research in serial section tomography. The key functionality is built on top of *Jax*, a high-performance numpy-like library that takes advantage of GPU acceleration in addition to providing automatic differentiation capabilities.\n",
    "\n",
    "In this guide we'll use SerialTomo to simulate and reconstruct one section from a dual-tilt series. This will allow us to highlight 4 key functions\n",
    "- ```project``` Applies a radon transform to a 3D volume. The output is differentiable with respect to volume, tilt angles, and tilt axes\n",
    "-  ```alignstacks``` Coarsely aligns multiple adjacent tilt series into a *linogram* representation. Uses SIFT to find correspondences and RANSAC to estimate a projective transformation between pairs.\n",
    "-  ```minimize``` Performs gradient descent with auto learning rate tuning\n",
    "- ```viewstack``` Creates a widget that allows for scrolling through 3D stacks in a Jupyter Notebook\n",
    "\n",
    "Let's get started!"
   ]
  },
  {
   "cell_type": "markdown",
   "id": "90a79ded-bd5d-4944-8e4a-b9311c456ada",
   "metadata": {},
   "source": [
    "## Setup"
   ]
  },
  {
   "cell_type": "code",
   "execution_count": null,
   "id": "9ce71c5e-057d-4c03-ac44-abf6e97ed4c4",
   "metadata": {},
   "outputs": [],
   "source": [
    "%matplotlib widget\n",
    "%load_ext autoreload\n",
    "%autoreload 2\n",
    "\n",
    "import os\n",
    "os.environ['CUDA_VISIBLE_DEVICES'] = '3'\n",
    "\n",
    "# cuda functionality\n",
    "\n",
    "# imports\n",
    "import jax \n",
    "import jax.numpy as jnp\n",
    "from jax import value_and_grad, jit\n",
    "\n",
    "import tifffile\n",
    "import numpy as np\n",
    "import matplotlib.pyplot as plt\n",
    "\n",
    "# serialtomo functions\n",
    "from serialtomo.align import alignstacks\n",
    "from serialtomo.project import project\n",
    "from serialtomo.minimize import minimize\n",
    "from serialtomo.visualize import viewstack"
   ]
  },
  {
   "cell_type": "code",
   "execution_count": null,
   "id": "e1a12efc-f5b0-453b-bbdc-8f0e331646dd",
   "metadata": {},
   "outputs": [],
   "source": [
    "# first we need a dataset for our simulation. We'll load a FIBSEM volume of fly brain from Janelia\n",
    "volume = tifffile.imread('../example_data/density.tif').transpose(2,1,0).astype('float32')\n",
    "volume = volume / volume.std()\n",
    "print(f'{volume.shape=}')"
   ]
  },
  {
   "cell_type": "markdown",
   "id": "9b967bac-b7a8-42e7-a1d8-a6f8f43f16e5",
   "metadata": {},
   "source": [
    "## ```viewstack```\n",
    "\n",
    "We'll show the volume using the `viewstack` utility. This is built on top of the python library *stackview*.  \n",
    "The **SerialTomo** interface adds a few convenience utilities to easily adjust the size, change the view and adjust brightness & contrast"
   ]
  },
  {
   "cell_type": "code",
   "execution_count": null,
   "id": "a24b535f-7949-45ce-beda-0535d4b7a13e",
   "metadata": {},
   "outputs": [],
   "source": [
    "viewstack(volume,view='xy',size=1/3,pmin=1.0,pmax=99.)"
   ]
  },
  {
   "cell_type": "markdown",
   "id": "aad59084-5b87-415b-ab2a-b8aaf5a31f4c",
   "metadata": {},
   "source": [
    "## ```project```\n",
    "\n",
    "This function applies a Radon transform to a 3D volume. The output can be differentiated with respect to the volume, the tilt angle and the tilt axis.  \n",
    "**Warning** This Radon transform preserves the size and global rotation for all tilt angles/axes, unlike conventional implementations of discrete radon transforms.\n",
    "\n",
    "We diagram this \"stretched\" Radon transform below\n",
    "\n",
    "<!-- ![image-formation](../images/tutorial/image-formation.png =250x250) -->\n",
    "\n",
    "<img src=\"../images/quickstart/image-formation.png\" width=\"900\">\n",
    "To generate a tilt image, the volume is held fixed fixed and the detector is displaced by amount determined by the tilt angle $\\theta$ and tilt axis $\\phi$. (In particular by $L \\tan(\\theta) cos(\\phi)$ in the $x$ direction, and $L \\tan(\\theta) sin(\\phi)$ in the y direction, where $L$ is the distance between the center of the volume and the detector plane).\n",
    "\n",
    "Rays are cast from the center (in the xy plane) of each central (in the depth direction) voxel down to the center of each detector pixel. The volume is interpolated and summed along each ray to generate a tilt image. This operation preserves the size of the image for all tilt angles. Note that because the rays are always spaced 1 pixel apart in the volume, this operation is a convolution (and it is in fact implemented as a sparse convolution in the `project` function).\n",
    "\n",
    "<!-- $$ T[i,j] = \\sum_k x(r[i,j,k,\\theta,\\phi])$$ -->\n",
    "\n",
    "Now let's use this operator to simulate a dual tilt series from the FIBSEM volume, with one tilt axis $\\phi=0^\\circ$ and the other at $\\phi=90^\\circ$"
   ]
  },
  {
   "cell_type": "code",
   "execution_count": null,
   "id": "eefaf399-2e63-4a3b-9cd9-8f298fa418ed",
   "metadata": {},
   "outputs": [],
   "source": [
    "# choose tilt-angles \n",
    "tilt_angles = np.linspace(-45,45,45)\n",
    "\n",
    "# apply the projection operator over two axes\n",
    "tilts_a = project(volume, tilt_angles, tilt_axes=0.0)\n",
    "tilts_b = project(volume, tilt_angles, tilt_axes=90.0)\n",
    "\n",
    "# The output of project is a jax array of size n_tilts x height x width\n",
    "print(f'{tilts_a.shape=}, {type(tilts_a)=}')"
   ]
  },
  {
   "cell_type": "code",
   "execution_count": null,
   "id": "4e92363e-237b-4fdd-adfc-ea85db20a6eb",
   "metadata": {
    "tags": []
   },
   "outputs": [],
   "source": [
    "# concatenate and view the tilt series\n",
    "viewstack(np.concatenate([tilts_a,tilts_b]),size=1/3,pmin=0,pmax=100)"
   ]
  },
  {
   "cell_type": "markdown",
   "id": "3424b959-cf3c-418d-9c55-498e96e1d90e",
   "metadata": {},
   "source": [
    "Observe that borders are darker, because the rays are not totally contained in the volume near the edges. "
   ]
  },
  {
   "cell_type": "code",
   "execution_count": null,
   "id": "84ec2ba2-4394-4fe6-89c9-c6cf4c9e1e47",
   "metadata": {},
   "outputs": [],
   "source": [
    "# crop the borders because border rays are not perfectly perfectly contained in the volume if they are obliquely oriented\n",
    "tilts_a = tilts_a[:,100:-100,100:-100]\n",
    "tilts_b = tilts_b[:,100:-100,100:-100]"
   ]
  },
  {
   "cell_type": "markdown",
   "id": "31cfbcba-7b5b-4c69-9868-a5095c21bf9a",
   "metadata": {},
   "source": [
    "Seemingly a bigger issue is that because our project operator does not stretch or rotate, these images do not actually look like the ones that would be observe din a typical real-life experiment.\n",
    "\n",
    "This is not a problem. If one wishes to implement stretching and rotation, the images can just be rotated and stretched after the project function"
   ]
  },
  {
   "cell_type": "code",
   "execution_count": null,
   "id": "e711f9e7-d7e8-4dc2-8689-d8fd72e1012c",
   "metadata": {
    "tags": []
   },
   "outputs": [],
   "source": [
    "from jax.scipy.ndimage import map_coordinates\n",
    "\n",
    "def foreshorten_rotate(image, tilt_angle, tilt_axis):\n",
    "    \"\"\" Rotate the image so the tilt_axis is horizontal and foreshorten by cos(tilt_angle)\"\"\"\n",
    "    coords = jnp.mgrid[:image.shape[0],:image.shape[1]].astype('float32')\n",
    "    center = coords.mean(axis=(1,2),keepdims=True)\n",
    "    coords -= center\n",
    "    \n",
    "    # stretch the coordinates about the center of the image\n",
    "    theta = np.pi / 180 * tilt_angle\n",
    "    stretch = np.array([1,jnp.cos(theta)]).reshape((2,1,1))\n",
    "    coords /= stretch\n",
    "\n",
    "    # rotate the coordinates\n",
    "    phi = np.pi / 180 * tilt_axis\n",
    "    rot_mat = jnp.array([[jnp.cos(phi), jnp.sin(phi)],[-jnp.sin(phi), jnp.cos(phi)]])\n",
    "    coords = jnp.einsum('ij,jyx->iyx', rot_mat, coords)\n",
    "\n",
    "    # uncenter\n",
    "    coords += center\n",
    "    \n",
    "    # interpolate via bilinear interpolation\n",
    "    return map_coordinates(image, coords, order=1)\n",
    "\n",
    "# rotate and foreshorten tilts\n",
    "tilts_a = np.array([foreshorten_rotate(tilt, angle, 0.0) for tilt, angle in zip(tilts_a, tilt_angles)])\n",
    "tilts_b = np.array([foreshorten_rotate(tilt, angle, 90.0) for tilt, angle in zip(tilts_b, tilt_angles)])"
   ]
  },
  {
   "cell_type": "code",
   "execution_count": null,
   "id": "3daf810f-6ec7-4055-8131-a70514e53fa7",
   "metadata": {},
   "outputs": [],
   "source": [
    "# concatenate and view the tilt series\n",
    "viewstack(np.concatenate([tilts_a,tilts_b]),size=1/3,pmin=0,pmax=100)"
   ]
  },
  {
   "cell_type": "markdown",
   "id": "d24195f4-674e-4589-b2e0-9e86e3806062",
   "metadata": {},
   "source": [
    "Now we have a more realistic simulation so its time to move on to the reconstruction"
   ]
  },
  {
   "cell_type": "markdown",
   "id": "091159f9-21b2-4b61-a713-aca317add232",
   "metadata": {},
   "source": [
    "## ```alignstacks```\n",
    "\n",
    "This function align multiple stack to each other. These stacks can come from either from multiple axes or multiple adjacent sections, though aligning adjacent section is very challenging for thick sections.  \n",
    "**Warning** This function is likely to undergo signifcant implementation (and possibly API) changes, as robust alignment is a challenging task especially across thick sections, and we are actively working to improve registration quality.  Additionally we're not using using GPU for this\n",
    "\n",
    "This method uses SIFT keypoints to register pairs of sections. It then uses RANSAC to estimate a projective transform (characterized by a 3x3 coordinate transformation matrix) from the SIFT keypoints. Within each stack sections are registered sequentially, and the transformation matrices are composed so that each section is registered to the central section (the presumed $0^\\circ$ tilt). These central sections are in turn registered to stack specified by the `ref_idx` parameter of alignstacks.\n",
    "\n",
    "<img src=\"../images/quickstart/alignment-strategy.png\" width=\"600\" height=\"500\">\n"
   ]
  },
  {
   "cell_type": "code",
   "execution_count": null,
   "id": "d2ceea0b-f5a8-41ce-80db-8f7748dc4ba4",
   "metadata": {},
   "outputs": [],
   "source": [
    "[aligned_a, aligned_b], info = alignstacks([tilts_a,tilts_b], downsample=4, ref_idx=0)\n",
    "# downsampling is used to speed up registration, the transformed stack is still full-res\n",
    "# "
   ]
  },
  {
   "cell_type": "code",
   "execution_count": null,
   "id": "ab4db353-eede-419b-b303-bf72f3c92fe4",
   "metadata": {},
   "outputs": [],
   "source": [
    "viewstack(np.concatenate([aligned_a,aligned_b]), size=1/3, pmin=0, pmax=100)"
   ]
  },
  {
   "cell_type": "markdown",
   "id": "164374f4-f7b2-44a4-91ba-d90e9c6f6000",
   "metadata": {},
   "source": [
    "#### Linogram vs Sinogram"
   ]
  },
  {
   "cell_type": "markdown",
   "id": "0a63ff6e-78c0-4f7e-856a-f8c2c7fd88c0",
   "metadata": {},
   "source": [
    "This alignment has unstretched and derotated the image. In other words it has undone the `foreshorten_rotate` function we applied after `project`-ing. It has given us what is known as a *linogram* representation. We can understand the origins of the term by looking at an 'xz' slice of the aligned stack."
   ]
  },
  {
   "cell_type": "code",
   "execution_count": null,
   "id": "afc79a1b-d186-42f0-b350-a230a99b657d",
   "metadata": {},
   "outputs": [],
   "source": [
    "# linogram representation\n",
    "viewstack(aligned_a, view='xz',size=2)"
   ]
  },
  {
   "cell_type": "markdown",
   "id": "7976223e-9f07-4157-84f5-9e59f88d4e3a",
   "metadata": {},
   "source": [
    "Contrast the linogram with the sinogram, the traditional representation of a tilt series, where features take large sinusoidal trajectories through the tilt series"
   ]
  },
  {
   "cell_type": "code",
   "execution_count": null,
   "id": "88f49371-0d40-4fde-9a23-8b6e060d5aaf",
   "metadata": {},
   "outputs": [],
   "source": [
    "# sinogram representation\n",
    "viewstack(tilts_a, view='xz',size=2)"
   ]
  },
  {
   "cell_type": "markdown",
   "id": "b0989e00-480d-4497-a235-888e50a8571a",
   "metadata": {},
   "source": [
    "## ```minimize```\n",
    "\n",
    "Now we're ready to generate a reconstruction. To do so we will create an energy function which is just the sum-of-squared errors between predicted and \"measured\" (i.e. simulated) tilts. We will minimize this function with the `minimize` utility provided by SerialTomo.\n",
    "\n",
    "This function performs gradient descent using backtracking line search to estimate a good step size at each iteration. Constraints can be incorporated (such as non-negativity) and multiple parameter groups can be simulateously optimized over, each with their own learning rates."
   ]
  },
  {
   "cell_type": "code",
   "execution_count": null,
   "id": "5b45cf88-2e56-454c-81fd-dad63ea56be7",
   "metadata": {},
   "outputs": [],
   "source": [
    "# construct the energy function\n",
    "def energy(volume):\n",
    "    # generate predictions for each stretched tilt series\n",
    "    pred_a = project(volume, tilt_angles, tilt_axes=0.0)\n",
    "    pred_b = project(volume, tilt_angles, tilt_axes=90.0)\n",
    "    \n",
    "    # squared error \n",
    "    err = ((pred_a - aligned_a)**2).sum() + ((pred_b - aligned_b)**2).sum()\n",
    "\n",
    "    return err\n",
    "\n",
    "func = value_and_grad(energy) # func(volume) returns (energy, d_energy/d_volume)\n",
    "func = jit(func) # just-in-time compilation for improved speed and reduced memory consumption, though the first call may be quite slow"
   ]
  },
  {
   "cell_type": "code",
   "execution_count": null,
   "id": "5944fed6-8ab8-4a2d-9d7c-95eaa0fe53c1",
   "metadata": {},
   "outputs": [],
   "source": [
    "# initialize the reconstruction to be all zeros\n",
    "init_reconstruction = jnp.zeros((64,1000,1000))\n",
    "\n",
    "# perform the minimization. \n",
    "reconstruction, info = minimize(func, init_reconstruction, maxiter=20)\n",
    "# regularization is provided by early stopping (i.e. by only performing at most maxiter=20 updates)"
   ]
  },
  {
   "cell_type": "markdown",
   "id": "a2a8e801-e28c-47dc-8d6f-f3c3cdbd54eb",
   "metadata": {
    "jp-MarkdownHeadingCollapsed": true,
    "tags": []
   },
   "source": [
    "Before analyzing the reconstruction, its worth mentioning that there are many methods that can be used to optimize the energy.\n",
    "- hand implementing gradient descent or stochastic gradient descent with hand tuned step sizes\n",
    "- Tensorflow L-BFGS\n",
    "- Optax for SGD and variants\n",
    "\n",
    "These may be worth checking out, but the `minimize` function has proven quite robust in experiments thus far."
   ]
  },
  {
   "cell_type": "markdown",
   "id": "f37575c1-b1d1-4513-9af7-8dfc9df032ce",
   "metadata": {},
   "source": [
    "#### Analysis of reconstructions\n",
    "\n",
    "Now let's visualize the reconstructions"
   ]
  },
  {
   "cell_type": "code",
   "execution_count": null,
   "id": "47fe5e89-ff6c-494c-9eab-73c8a7aa0742",
   "metadata": {},
   "outputs": [],
   "source": [
    "# XY slices from the reconstruction\n",
    "viewstack(reconstruction,size=1/2)"
   ]
  },
  {
   "cell_type": "code",
   "execution_count": null,
   "id": "51fa1e98-4499-4537-b35b-ad5fc437154a",
   "metadata": {},
   "outputs": [],
   "source": [
    "# YZ slices\n",
    "viewstack(reconstruction, view='yz')"
   ]
  },
  {
   "cell_type": "code",
   "execution_count": null,
   "id": "c41ffb90-116a-47d1-927d-282baa429c0a",
   "metadata": {},
   "outputs": [],
   "source": [
    "# Compare the real volume and the reconstructed volume\n",
    "# if one provides viewstack with two stacks, it overlays them in a curtain fashion.\n",
    "viewstack(volume[:,100:-100,100:-100], reconstruction, size=1/2, view='xy')"
   ]
  },
  {
   "cell_type": "markdown",
   "id": "0bcd6254-ebae-4ea1-a16d-bfe297115d77",
   "metadata": {},
   "source": [
    "#### Analysis of errors\n",
    "\n",
    "We can compare the predicted tilts to the reconstructed tilts"
   ]
  },
  {
   "cell_type": "code",
   "execution_count": null,
   "id": "efdd4fd1-7303-408b-b8d1-7cb188e6f723",
   "metadata": {},
   "outputs": [],
   "source": [
    "pred_a = project(reconstruction, tilt_angles, tilt_axes=0.0)\n",
    "viewstack(pred_a, aligned_a, size=1/2, view='xy')"
   ]
  },
  {
   "cell_type": "markdown",
   "id": "0d617587-cd98-46f9-b04d-67a6b5bfa35a",
   "metadata": {},
   "source": [
    "#### Solve for volume and tilt axes\n",
    "Before concluding, let's do something more complicated. What if we guessed the initial tilt axes incorrectly? Let's just throw them into the energy and let the minimize solve for them"
   ]
  },
  {
   "cell_type": "code",
   "execution_count": null,
   "id": "d98d4d3d-b5fb-4eb0-8522-074c46965119",
   "metadata": {},
   "outputs": [],
   "source": [
    "# construct the energy function\n",
    "def energy(params):\n",
    "    # unpack params. params can be any pytree of jax arrays\n",
    "    volume, tilt_axes = params\n",
    "    \n",
    "    # generate predictions for each stretched tilt series\n",
    "    pred_a = project(volume, tilt_angles, tilt_axes[0])\n",
    "    pred_b = project(volume, tilt_angles, tilt_axes[1])\n",
    "    \n",
    "    # squared error \n",
    "    err = ((pred_a - aligned_a)**2).sum() + ((pred_b - aligned_b)**2).sum()\n",
    "\n",
    "    return err\n",
    "\n",
    "func = value_and_grad(energy) # func(volume) returns (energy, (d_energy/param for param in params))\n",
    "func = jit(func) # just-in-time compilation for improved speed and reduced memory consumption, though the first call may be quite slow"
   ]
  },
  {
   "cell_type": "code",
   "execution_count": null,
   "id": "f8f0dc5b-1b9c-4615-90f8-3b42fc321367",
   "metadata": {
    "tags": []
   },
   "outputs": [],
   "source": [
    "# initialize the reconstruction to be all zeros\n",
    "init_reconstruction = jnp.zeros((64,1000,1000))\n",
    "init_angles = jnp.array([0.0,80.0])\n",
    "params = (init_reconstruction, init_angles)\n",
    "\n",
    "# perform the minimization. \n",
    "params, info = minimize(func, params, maxiter=30)\n",
    "# regularization is provided by early stopping (i.e. by only performing at most maxiter=20 updates)"
   ]
  },
  {
   "cell_type": "markdown",
   "id": "4d4ba6ed-25dc-4cba-bb92-73c243a741c0",
   "metadata": {},
   "source": [
    "This example better illustrates the utility of the `minimize` function. The step sizes for the tilt angles are nearly 4 orders of magnitude smaller than for the volume. We could have eventually found this by hand, but this method automatically determined them."
   ]
  },
  {
   "cell_type": "code",
   "execution_count": null,
   "id": "8823553f-a433-4389-9609-c505905bcc42",
   "metadata": {},
   "outputs": [],
   "source": [
    "tilt_axes = params[1]\n",
    "print(f're-estimated axis #1: {tilt_axes[0]} degrees')\n",
    "print(f're-estimated axis #2: {tilt_axes[1]} degrees')"
   ]
  },
  {
   "cell_type": "code",
   "execution_count": null,
   "id": "3cff74a1-49c9-446d-89ae-4181481f1429",
   "metadata": {},
   "outputs": [],
   "source": [
    "viewstack(params[0],size=1/2)"
   ]
  },
  {
   "cell_type": "code",
   "execution_count": null,
   "id": "5789732a-80e6-4523-8d40-ed2d7dc3ae3d",
   "metadata": {},
   "outputs": [],
   "source": []
  }
 ],
 "metadata": {
  "kernelspec": {
   "display_name": "Python 3",
   "language": "python",
   "name": "python3"
  },
  "language_info": {
   "codemirror_mode": {
    "name": "ipython",
    "version": 3
   },
   "file_extension": ".py",
   "mimetype": "text/x-python",
   "name": "python",
   "nbconvert_exporter": "python",
   "pygments_lexer": "ipython3",
   "version": "3.9.13"
  }
 },
 "nbformat": 4,
 "nbformat_minor": 5
}
